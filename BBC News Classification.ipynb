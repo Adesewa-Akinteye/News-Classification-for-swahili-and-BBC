{
 "cells": [
  {
   "cell_type": "code",
   "execution_count": 1,
   "id": "25ba0c96",
   "metadata": {},
   "outputs": [],
   "source": [
    "import pandas as pd\n",
    "import numpy as np\n",
    "from sklearn.feature_extraction.text import CountVectorizer\n",
    "from sklearn.model_selection import train_test_split\n",
    "from sklearn.naive_bayes import MultinomialNB\n",
    "import matplotlib.pyplot as plt"
   ]
  },
  {
   "cell_type": "code",
   "execution_count": 2,
   "id": "513fe202",
   "metadata": {},
   "outputs": [
    {
     "data": {
      "text/html": [
       "<div>\n",
       "<style scoped>\n",
       "    .dataframe tbody tr th:only-of-type {\n",
       "        vertical-align: middle;\n",
       "    }\n",
       "\n",
       "    .dataframe tbody tr th {\n",
       "        vertical-align: top;\n",
       "    }\n",
       "\n",
       "    .dataframe thead th {\n",
       "        text-align: right;\n",
       "    }\n",
       "</style>\n",
       "<table border=\"1\" class=\"dataframe\">\n",
       "  <thead>\n",
       "    <tr style=\"text-align: right;\">\n",
       "      <th></th>\n",
       "      <th>ArticleId</th>\n",
       "      <th>Text</th>\n",
       "      <th>Category</th>\n",
       "    </tr>\n",
       "  </thead>\n",
       "  <tbody>\n",
       "    <tr>\n",
       "      <th>0</th>\n",
       "      <td>1833</td>\n",
       "      <td>worldcom ex-boss launches defence lawyers defe...</td>\n",
       "      <td>business</td>\n",
       "    </tr>\n",
       "    <tr>\n",
       "      <th>1</th>\n",
       "      <td>154</td>\n",
       "      <td>german business confidence slides german busin...</td>\n",
       "      <td>business</td>\n",
       "    </tr>\n",
       "    <tr>\n",
       "      <th>2</th>\n",
       "      <td>1101</td>\n",
       "      <td>bbc poll indicates economic gloom citizens in ...</td>\n",
       "      <td>business</td>\n",
       "    </tr>\n",
       "    <tr>\n",
       "      <th>3</th>\n",
       "      <td>1976</td>\n",
       "      <td>lifestyle  governs mobile choice  faster  bett...</td>\n",
       "      <td>tech</td>\n",
       "    </tr>\n",
       "    <tr>\n",
       "      <th>4</th>\n",
       "      <td>917</td>\n",
       "      <td>enron bosses in $168m payout eighteen former e...</td>\n",
       "      <td>business</td>\n",
       "    </tr>\n",
       "  </tbody>\n",
       "</table>\n",
       "</div>"
      ],
      "text/plain": [
       "   ArticleId                                               Text  Category\n",
       "0       1833  worldcom ex-boss launches defence lawyers defe...  business\n",
       "1        154  german business confidence slides german busin...  business\n",
       "2       1101  bbc poll indicates economic gloom citizens in ...  business\n",
       "3       1976  lifestyle  governs mobile choice  faster  bett...      tech\n",
       "4        917  enron bosses in $168m payout eighteen former e...  business"
      ]
     },
     "execution_count": 2,
     "metadata": {},
     "output_type": "execute_result"
    }
   ],
   "source": [
    "data= pd.read_csv(r'C:\\Users\\hp\\Desktop\\praj\\bbc news\\BBC News Train.csv')\n",
    "data.head()"
   ]
  },
  {
   "cell_type": "code",
   "execution_count": 3,
   "id": "a87853b4",
   "metadata": {},
   "outputs": [
    {
     "data": {
      "text/plain": [
       "ArticleId    0\n",
       "Text         0\n",
       "Category     0\n",
       "dtype: int64"
      ]
     },
     "execution_count": 3,
     "metadata": {},
     "output_type": "execute_result"
    }
   ],
   "source": [
    "data.isnull().sum()"
   ]
  },
  {
   "cell_type": "code",
   "execution_count": 4,
   "id": "97bf5ca2",
   "metadata": {},
   "outputs": [
    {
     "data": {
      "text/html": [
       "<div>\n",
       "<style scoped>\n",
       "    .dataframe tbody tr th:only-of-type {\n",
       "        vertical-align: middle;\n",
       "    }\n",
       "\n",
       "    .dataframe tbody tr th {\n",
       "        vertical-align: top;\n",
       "    }\n",
       "\n",
       "    .dataframe thead th {\n",
       "        text-align: right;\n",
       "    }\n",
       "</style>\n",
       "<table border=\"1\" class=\"dataframe\">\n",
       "  <thead>\n",
       "    <tr style=\"text-align: right;\">\n",
       "      <th></th>\n",
       "      <th>Category</th>\n",
       "      <th>Count</th>\n",
       "    </tr>\n",
       "  </thead>\n",
       "  <tbody>\n",
       "    <tr>\n",
       "      <th>0</th>\n",
       "      <td>business</td>\n",
       "      <td>336</td>\n",
       "    </tr>\n",
       "    <tr>\n",
       "      <th>1</th>\n",
       "      <td>entertainment</td>\n",
       "      <td>273</td>\n",
       "    </tr>\n",
       "    <tr>\n",
       "      <th>2</th>\n",
       "      <td>politics</td>\n",
       "      <td>274</td>\n",
       "    </tr>\n",
       "    <tr>\n",
       "      <th>3</th>\n",
       "      <td>sport</td>\n",
       "      <td>346</td>\n",
       "    </tr>\n",
       "    <tr>\n",
       "      <th>4</th>\n",
       "      <td>tech</td>\n",
       "      <td>261</td>\n",
       "    </tr>\n",
       "  </tbody>\n",
       "</table>\n",
       "</div>"
      ],
      "text/plain": [
       "        Category  Count\n",
       "0       business    336\n",
       "1  entertainment    273\n",
       "2       politics    274\n",
       "3          sport    346\n",
       "4           tech    261"
      ]
     },
     "execution_count": 4,
     "metadata": {},
     "output_type": "execute_result"
    }
   ],
   "source": [
    "freq_table = data.groupby(['Category']).size().reset_index(name='Count').rename(columns={'Category':'Category'})\n",
    "freq_table"
   ]
  },
  {
   "cell_type": "code",
   "execution_count": 5,
   "id": "91676b9d",
   "metadata": {},
   "outputs": [
    {
     "data": {
      "image/png": "[encoded data removed]",
      "text/plain": [
       "<Figure size 432x288 with 1 Axes>"
      ]
     },
     "metadata": {
      "needs_background": "light"
     },
     "output_type": "display_data"
    }
   ],
   "source": [
    "plt.bar(freq_table['Category'], freq_table['Count'])\n",
    "plt.show()"
   ]
  },
  {
   "cell_type": "code",
   "execution_count": 6,
   "id": "bec2f690",
   "metadata": {},
   "outputs": [
    {
     "data": {
      "text/plain": [
       "MultinomialNB()"
      ]
     },
     "execution_count": 6,
     "metadata": {},
     "output_type": "execute_result"
    }
   ],
   "source": [
    "data = data[[\"Text\", \"Category\"]]\n",
    "\n",
    "x = np.array(data[\"Text\"])\n",
    "y = np.array(data[\"Category\"])\n",
    "\n",
    "cv = CountVectorizer()\n",
    "X = cv.fit_transform(x)\n",
    "X_train, X_test, y_train, y_test = train_test_split(X, y, test_size=0.33, random_state=56)\n",
    "\n",
    "model = MultinomialNB()\n",
    "model.fit(X_train,y_train)"
   ]
  },
  {
   "cell_type": "code",
   "execution_count": 7,
   "id": "3f6d183b",
   "metadata": {},
   "outputs": [
    {
     "name": "stdout",
     "output_type": "stream",
     "text": [
      "0.9776422764227642\n"
     ]
    }
   ],
   "source": [
    "from sklearn.metrics import accuracy_score\n",
    "print(accuracy_score(y_test, model.predict(X_test)))"
   ]
  },
  {
   "cell_type": "code",
   "execution_count": 8,
   "id": "4edc1c0d",
   "metadata": {},
   "outputs": [
    {
     "name": "stdout",
     "output_type": "stream",
     "text": [
      "Enter a Text: education is key\n",
      "['politics']\n"
     ]
    }
   ],
   "source": [
    "INPUT = input(\"Enter a Text: \")\n",
    "data = cv.transform([INPUT]).toarray()\n",
    "output = model.predict(data)\n",
    "print(output)"
   ]
  },
  {
   "cell_type": "code",
   "execution_count": 9,
   "id": "1997bdb5",
   "metadata": {},
   "outputs": [
    {
     "data": {
      "text/html": [
       "<div>\n",
       "<style scoped>\n",
       "    .dataframe tbody tr th:only-of-type {\n",
       "        vertical-align: middle;\n",
       "    }\n",
       "\n",
       "    .dataframe tbody tr th {\n",
       "        vertical-align: top;\n",
       "    }\n",
       "\n",
       "    .dataframe thead th {\n",
       "        text-align: right;\n",
       "    }\n",
       "</style>\n",
       "<table border=\"1\" class=\"dataframe\">\n",
       "  <thead>\n",
       "    <tr style=\"text-align: right;\">\n",
       "      <th></th>\n",
       "      <th>ArticleId</th>\n",
       "      <th>Text</th>\n",
       "    </tr>\n",
       "  </thead>\n",
       "  <tbody>\n",
       "    <tr>\n",
       "      <th>0</th>\n",
       "      <td>1018</td>\n",
       "      <td>qpr keeper day heads for preston queens park r...</td>\n",
       "    </tr>\n",
       "    <tr>\n",
       "      <th>1</th>\n",
       "      <td>1319</td>\n",
       "      <td>software watching while you work software that...</td>\n",
       "    </tr>\n",
       "    <tr>\n",
       "      <th>2</th>\n",
       "      <td>1138</td>\n",
       "      <td>d arcy injury adds to ireland woe gordon d arc...</td>\n",
       "    </tr>\n",
       "    <tr>\n",
       "      <th>3</th>\n",
       "      <td>459</td>\n",
       "      <td>india s reliance family feud heats up the ongo...</td>\n",
       "    </tr>\n",
       "    <tr>\n",
       "      <th>4</th>\n",
       "      <td>1020</td>\n",
       "      <td>boro suffer morrison injury blow middlesbrough...</td>\n",
       "    </tr>\n",
       "  </tbody>\n",
       "</table>\n",
       "</div>"
      ],
      "text/plain": [
       "   ArticleId                                               Text\n",
       "0       1018  qpr keeper day heads for preston queens park r...\n",
       "1       1319  software watching while you work software that...\n",
       "2       1138  d arcy injury adds to ireland woe gordon d arc...\n",
       "3        459  india s reliance family feud heats up the ongo...\n",
       "4       1020  boro suffer morrison injury blow middlesbrough..."
      ]
     },
     "execution_count": 9,
     "metadata": {},
     "output_type": "execute_result"
    }
   ],
   "source": [
    "data= pd.read_csv(r'C:\\Users\\hp\\Desktop\\praj\\bbc news\\BBC News Test.csv')\n",
    "data.head()"
   ]
  },
  {
   "cell_type": "code",
   "execution_count": 10,
   "id": "828b607f",
   "metadata": {},
   "outputs": [
    {
     "data": {
      "text/plain": [
       "array(['sport', 'tech', 'sport', 'business', 'sport', 'sport', 'politics',\n",
       "       'politics', 'entertainment', 'business', 'business', 'tech',\n",
       "       'politics', 'tech', 'entertainment', 'sport', 'politics', 'tech',\n",
       "       'entertainment', 'entertainment', 'business', 'politics', 'sport',\n",
       "       'business', 'politics', 'sport', 'business', 'sport', 'sport',\n",
       "       'business', 'politics', 'tech', 'business', 'business', 'sport',\n",
       "       'sport', 'sport', 'business', 'entertainment', 'politics',\n",
       "       'politics', 'politics', 'entertainment', 'tech', 'sport', 'tech',\n",
       "       'entertainment', 'business', 'politics', 'business', 'politics',\n",
       "       'business', 'business', 'business', 'tech', 'politics', 'tech',\n",
       "       'tech', 'sport', 'tech', 'sport', 'entertainment', 'tech',\n",
       "       'politics', 'business', 'entertainment', 'sport', 'tech', 'sport',\n",
       "       'sport', 'tech', 'sport', 'business', 'politics', 'tech', 'sport',\n",
       "       'tech', 'tech', 'tech', 'entertainment', 'politics', 'sport',\n",
       "       'entertainment', 'entertainment', 'business', 'entertainment',\n",
       "       'business', 'entertainment', 'business', 'tech', 'politics',\n",
       "       'politics', 'sport', 'tech', 'sport', 'sport', 'sport', 'sport',\n",
       "       'sport', 'sport', 'politics', 'sport', 'politics', 'entertainment',\n",
       "       'business', 'sport', 'politics', 'sport', 'politics',\n",
       "       'entertainment', 'sport', 'business', 'entertainment', 'sport',\n",
       "       'politics', 'sport', 'politics', 'sport', 'politics', 'business',\n",
       "       'entertainment', 'business', 'entertainment', 'entertainment',\n",
       "       'tech', 'sport', 'business', 'entertainment', 'business',\n",
       "       'entertainment', 'business', 'politics', 'politics', 'tech',\n",
       "       'business', 'business', 'politics', 'tech', 'entertainment',\n",
       "       'sport', 'business', 'tech', 'sport', 'entertainment', 'politics',\n",
       "       'sport', 'sport', 'entertainment', 'entertainment', 'tech',\n",
       "       'business', 'tech', 'politics', 'entertainment', 'sport', 'sport',\n",
       "       'sport', 'sport', 'entertainment', 'tech', 'business', 'tech',\n",
       "       'business', 'tech', 'business', 'tech', 'entertainment', 'tech',\n",
       "       'tech', 'politics', 'business', 'politics', 'business', 'business',\n",
       "       'entertainment', 'politics', 'tech', 'business', 'business',\n",
       "       'tech', 'sport', 'politics', 'sport', 'politics', 'tech', 'tech',\n",
       "       'politics', 'business', 'politics', 'tech', 'politics', 'business',\n",
       "       'entertainment', 'sport', 'tech', 'tech', 'business', 'tech',\n",
       "       'politics', 'business', 'sport', 'politics', 'business',\n",
       "       'entertainment', 'business', 'business', 'sport', 'tech',\n",
       "       'business', 'sport', 'entertainment', 'entertainment', 'sport',\n",
       "       'entertainment', 'sport', 'tech', 'politics', 'entertainment',\n",
       "       'sport', 'entertainment', 'sport', 'entertainment', 'politics',\n",
       "       'business', 'tech', 'entertainment', 'business', 'politics',\n",
       "       'business', 'tech', 'business', 'sport', 'politics', 'politics',\n",
       "       'politics', 'politics', 'sport', 'business', 'politics',\n",
       "       'politics', 'sport', 'politics', 'business', 'sport', 'tech',\n",
       "       'business', 'politics', 'business', 'politics', 'business',\n",
       "       'business', 'sport', 'tech', 'politics', 'entertainment', 'tech',\n",
       "       'entertainment', 'tech', 'sport', 'sport', 'tech', 'sport',\n",
       "       'sport', 'sport', 'entertainment', 'sport', 'politics', 'tech',\n",
       "       'tech', 'sport', 'business', 'sport', 'business', 'sport',\n",
       "       'entertainment', 'business', 'business', 'entertainment',\n",
       "       'politics', 'business', 'sport', 'sport', 'tech', 'sport', 'sport',\n",
       "       'entertainment', 'business', 'sport', 'tech', 'politics',\n",
       "       'entertainment', 'business', 'business', 'politics', 'sport',\n",
       "       'entertainment', 'politics', 'business', 'sport', 'sport', 'tech',\n",
       "       'entertainment', 'sport', 'business', 'tech', 'business', 'sport',\n",
       "       'politics', 'politics', 'entertainment', 'politics',\n",
       "       'entertainment', 'politics', 'business', 'politics', 'tech',\n",
       "       'business', 'sport', 'tech', 'entertainment', 'politics', 'sport',\n",
       "       'politics', 'politics', 'tech', 'politics', 'sport', 'tech',\n",
       "       'politics', 'tech', 'tech', 'entertainment', 'politics', 'tech',\n",
       "       'politics', 'business', 'politics', 'sport', 'tech',\n",
       "       'entertainment', 'entertainment', 'business', 'sport', 'tech',\n",
       "       'tech', 'entertainment', 'tech', 'business', 'sport',\n",
       "       'entertainment', 'tech', 'business', 'politics', 'tech', 'tech',\n",
       "       'politics', 'politics', 'sport', 'business', 'tech', 'sport',\n",
       "       'politics', 'politics', 'business', 'tech', 'sport', 'politics',\n",
       "       'business', 'politics', 'politics', 'tech', 'entertainment',\n",
       "       'business', 'business', 'sport', 'sport', 'sport', 'tech', 'tech',\n",
       "       'politics', 'tech', 'tech', 'politics', 'business', 'sport',\n",
       "       'sport', 'entertainment', 'entertainment', 'sport', 'tech', 'tech',\n",
       "       'sport', 'tech', 'entertainment', 'politics', 'tech', 'sport',\n",
       "       'business', 'politics', 'entertainment', 'business', 'tech',\n",
       "       'sport', 'politics', 'business', 'business', 'politics', 'tech',\n",
       "       'sport', 'entertainment', 'business', 'tech', 'business', 'tech',\n",
       "       'tech', 'sport', 'politics', 'business', 'tech', 'sport',\n",
       "       'politics', 'business', 'tech', 'tech', 'politics', 'tech',\n",
       "       'business', 'politics', 'business', 'entertainment', 'business',\n",
       "       'entertainment', 'politics', 'entertainment', 'sport', 'business',\n",
       "       'politics', 'business', 'sport', 'entertainment', 'business',\n",
       "       'entertainment', 'entertainment', 'sport', 'tech', 'entertainment',\n",
       "       'tech', 'business', 'politics', 'entertainment', 'politics',\n",
       "       'politics', 'sport', 'business', 'sport', 'politics',\n",
       "       'entertainment', 'entertainment', 'business', 'business', 'sport',\n",
       "       'politics', 'tech', 'tech', 'politics', 'business', 'sport',\n",
       "       'sport', 'politics', 'sport', 'tech', 'business', 'politics',\n",
       "       'sport', 'politics', 'tech', 'business', 'politics', 'tech',\n",
       "       'politics', 'politics', 'entertainment', 'tech', 'sport', 'sport',\n",
       "       'politics', 'business', 'tech', 'politics', 'sport', 'sport',\n",
       "       'entertainment', 'business', 'entertainment', 'entertainment',\n",
       "       'business', 'politics', 'sport', 'politics', 'tech', 'tech',\n",
       "       'business', 'politics', 'sport', 'business', 'sport', 'business',\n",
       "       'politics', 'business', 'sport', 'politics', 'tech', 'sport',\n",
       "       'politics', 'business', 'tech', 'politics', 'sport', 'politics',\n",
       "       'entertainment', 'sport', 'politics', 'business', 'business',\n",
       "       'business', 'tech', 'politics', 'politics', 'sport', 'business',\n",
       "       'tech', 'tech', 'tech', 'sport', 'tech', 'politics', 'tech',\n",
       "       'business', 'sport', 'tech', 'politics', 'business', 'tech',\n",
       "       'tech', 'sport', 'tech', 'business', 'sport', 'business',\n",
       "       'business', 'business', 'politics', 'politics', 'entertainment',\n",
       "       'entertainment', 'entertainment', 'politics', 'tech', 'tech',\n",
       "       'politics', 'entertainment', 'business', 'sport', 'sport',\n",
       "       'politics', 'entertainment', 'politics', 'sport', 'business',\n",
       "       'business', 'business', 'entertainment', 'tech', 'sport',\n",
       "       'business', 'politics', 'politics', 'tech', 'politics', 'sport',\n",
       "       'politics', 'business', 'tech', 'business', 'sport', 'sport',\n",
       "       'tech', 'sport', 'entertainment', 'tech', 'entertainment', 'tech',\n",
       "       'sport', 'politics', 'business', 'tech', 'politics', 'politics',\n",
       "       'entertainment', 'politics', 'business', 'business', 'tech',\n",
       "       'business', 'business', 'business', 'sport', 'entertainment',\n",
       "       'business', 'sport', 'tech', 'sport', 'tech', 'business',\n",
       "       'politics', 'sport', 'business', 'sport', 'sport', 'entertainment',\n",
       "       'politics', 'tech', 'sport', 'business', 'sport', 'business',\n",
       "       'sport', 'sport', 'politics', 'tech', 'business', 'tech',\n",
       "       'business', 'sport', 'tech', 'business', 'entertainment',\n",
       "       'business', 'entertainment', 'sport', 'tech', 'business',\n",
       "       'business', 'business', 'politics', 'sport', 'entertainment',\n",
       "       'tech', 'business', 'sport', 'entertainment', 'business',\n",
       "       'entertainment', 'business', 'politics', 'sport', 'sport',\n",
       "       'business', 'tech', 'sport', 'business', 'business', 'business',\n",
       "       'entertainment', 'business', 'entertainment', 'tech', 'sport',\n",
       "       'politics', 'tech', 'politics', 'tech', 'sport', 'tech',\n",
       "       'entertainment', 'business', 'business', 'politics', 'politics',\n",
       "       'sport', 'sport', 'sport', 'entertainment', 'tech', 'politics',\n",
       "       'entertainment', 'sport', 'sport', 'politics', 'tech', 'politics',\n",
       "       'entertainment', 'sport', 'entertainment', 'sport', 'tech', 'tech',\n",
       "       'sport', 'sport', 'business', 'tech', 'entertainment', 'business',\n",
       "       'tech', 'business', 'business', 'sport', 'entertainment',\n",
       "       'politics', 'entertainment', 'politics', 'politics', 'business',\n",
       "       'politics', 'sport', 'tech', 'tech', 'politics', 'entertainment',\n",
       "       'business', 'tech', 'entertainment', 'entertainment', 'politics',\n",
       "       'business', 'business', 'politics', 'politics', 'tech', 'sport',\n",
       "       'business', 'entertainment', 'politics', 'business', 'politics'],\n",
       "      dtype='<U13')"
      ]
     },
     "execution_count": 10,
     "metadata": {},
     "output_type": "execute_result"
    }
   ],
   "source": [
    "dataa = cv.transform(data['Text']).toarray()\n",
    "output = model.predict(dataa)\n",
    "output"
   ]
  },
  {
   "cell_type": "code",
   "execution_count": 11,
   "id": "0e081b15",
   "metadata": {},
   "outputs": [
    {
     "data": {
      "text/html": [
       "<div>\n",
       "<style scoped>\n",
       "    .dataframe tbody tr th:only-of-type {\n",
       "        vertical-align: middle;\n",
       "    }\n",
       "\n",
       "    .dataframe tbody tr th {\n",
       "        vertical-align: top;\n",
       "    }\n",
       "\n",
       "    .dataframe thead th {\n",
       "        text-align: right;\n",
       "    }\n",
       "</style>\n",
       "<table border=\"1\" class=\"dataframe\">\n",
       "  <thead>\n",
       "    <tr style=\"text-align: right;\">\n",
       "      <th></th>\n",
       "      <th>ArticleId</th>\n",
       "      <th>Text</th>\n",
       "      <th>Category</th>\n",
       "    </tr>\n",
       "  </thead>\n",
       "  <tbody>\n",
       "    <tr>\n",
       "      <th>0</th>\n",
       "      <td>1018</td>\n",
       "      <td>qpr keeper day heads for preston queens park r...</td>\n",
       "      <td>sport</td>\n",
       "    </tr>\n",
       "    <tr>\n",
       "      <th>1</th>\n",
       "      <td>1319</td>\n",
       "      <td>software watching while you work software that...</td>\n",
       "      <td>tech</td>\n",
       "    </tr>\n",
       "    <tr>\n",
       "      <th>2</th>\n",
       "      <td>1138</td>\n",
       "      <td>d arcy injury adds to ireland woe gordon d arc...</td>\n",
       "      <td>sport</td>\n",
       "    </tr>\n",
       "    <tr>\n",
       "      <th>3</th>\n",
       "      <td>459</td>\n",
       "      <td>india s reliance family feud heats up the ongo...</td>\n",
       "      <td>business</td>\n",
       "    </tr>\n",
       "    <tr>\n",
       "      <th>4</th>\n",
       "      <td>1020</td>\n",
       "      <td>boro suffer morrison injury blow middlesbrough...</td>\n",
       "      <td>sport</td>\n",
       "    </tr>\n",
       "  </tbody>\n",
       "</table>\n",
       "</div>"
      ],
      "text/plain": [
       "   ArticleId                                               Text  Category\n",
       "0       1018  qpr keeper day heads for preston queens park r...     sport\n",
       "1       1319  software watching while you work software that...      tech\n",
       "2       1138  d arcy injury adds to ireland woe gordon d arc...     sport\n",
       "3        459  india s reliance family feud heats up the ongo...  business\n",
       "4       1020  boro suffer morrison injury blow middlesbrough...     sport"
      ]
     },
     "execution_count": 11,
     "metadata": {},
     "output_type": "execute_result"
    }
   ],
   "source": [
    "data['Category'] = output\n",
    "data.head()"
   ]
  },
  {
   "cell_type": "code",
   "execution_count": 12,
   "id": "f16e2941",
   "metadata": {},
   "outputs": [
    {
     "data": {
      "text/html": [
       "<div>\n",
       "<style scoped>\n",
       "    .dataframe tbody tr th:only-of-type {\n",
       "        vertical-align: middle;\n",
       "    }\n",
       "\n",
       "    .dataframe tbody tr th {\n",
       "        vertical-align: top;\n",
       "    }\n",
       "\n",
       "    .dataframe thead th {\n",
       "        text-align: right;\n",
       "    }\n",
       "</style>\n",
       "<table border=\"1\" class=\"dataframe\">\n",
       "  <thead>\n",
       "    <tr style=\"text-align: right;\">\n",
       "      <th></th>\n",
       "      <th>ArticleId</th>\n",
       "      <th>Category</th>\n",
       "    </tr>\n",
       "  </thead>\n",
       "  <tbody>\n",
       "    <tr>\n",
       "      <th>0</th>\n",
       "      <td>1018</td>\n",
       "      <td>sport</td>\n",
       "    </tr>\n",
       "    <tr>\n",
       "      <th>1</th>\n",
       "      <td>1319</td>\n",
       "      <td>tech</td>\n",
       "    </tr>\n",
       "    <tr>\n",
       "      <th>2</th>\n",
       "      <td>1138</td>\n",
       "      <td>sport</td>\n",
       "    </tr>\n",
       "    <tr>\n",
       "      <th>3</th>\n",
       "      <td>459</td>\n",
       "      <td>business</td>\n",
       "    </tr>\n",
       "    <tr>\n",
       "      <th>4</th>\n",
       "      <td>1020</td>\n",
       "      <td>sport</td>\n",
       "    </tr>\n",
       "    <tr>\n",
       "      <th>...</th>\n",
       "      <td>...</td>\n",
       "      <td>...</td>\n",
       "    </tr>\n",
       "    <tr>\n",
       "      <th>730</th>\n",
       "      <td>1923</td>\n",
       "      <td>business</td>\n",
       "    </tr>\n",
       "    <tr>\n",
       "      <th>731</th>\n",
       "      <td>373</td>\n",
       "      <td>entertainment</td>\n",
       "    </tr>\n",
       "    <tr>\n",
       "      <th>732</th>\n",
       "      <td>1704</td>\n",
       "      <td>politics</td>\n",
       "    </tr>\n",
       "    <tr>\n",
       "      <th>733</th>\n",
       "      <td>206</td>\n",
       "      <td>business</td>\n",
       "    </tr>\n",
       "    <tr>\n",
       "      <th>734</th>\n",
       "      <td>471</td>\n",
       "      <td>politics</td>\n",
       "    </tr>\n",
       "  </tbody>\n",
       "</table>\n",
       "<p>735 rows × 2 columns</p>\n",
       "</div>"
      ],
      "text/plain": [
       "     ArticleId       Category\n",
       "0         1018          sport\n",
       "1         1319           tech\n",
       "2         1138          sport\n",
       "3          459       business\n",
       "4         1020          sport\n",
       "..         ...            ...\n",
       "730       1923       business\n",
       "731        373  entertainment\n",
       "732       1704       politics\n",
       "733        206       business\n",
       "734        471       politics\n",
       "\n",
       "[735 rows x 2 columns]"
      ]
     },
     "execution_count": 12,
     "metadata": {},
     "output_type": "execute_result"
    }
   ],
   "source": [
    "entry= data.drop(['Text'], axis=1)\n",
    "entry "
   ]
  },
  {
   "cell_type": "code",
   "execution_count": null,
   "id": "1bba81ab",
   "metadata": {},
   "outputs": [],
   "source": []
  }
 ],
 "metadata": {
  "kernelspec": {
   "display_name": "Python 3 (ipykernel)",
   "language": "python",
   "name": "python3"
  },
  "language_info": {
   "codemirror_mode": {
    "name": "ipython",
    "version": 3
   },
   "file_extension": ".py",
   "mimetype": "text/x-python",
   "name": "python",
   "nbconvert_exporter": "python",
   "pygments_lexer": "ipython3",
   "version": "3.9.7"
  }
 },
 "nbformat": 4,
 "nbformat_minor": 5
}
