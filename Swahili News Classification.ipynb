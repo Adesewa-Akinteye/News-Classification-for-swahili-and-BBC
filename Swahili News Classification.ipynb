{
 "cells": [
  {
   "cell_type": "code",
   "execution_count": 1,
   "id": "fdda54f4",
   "metadata": {},
   "outputs": [],
   "source": [
    "import pandas as pd\n",
    "import numpy as np\n",
    "from sklearn.feature_extraction.text import CountVectorizer\n",
    "from sklearn.model_selection import train_test_split\n",
    "from sklearn.naive_bayes import MultinomialNB"
   ]
  },
  {
   "cell_type": "code",
   "execution_count": 2,
   "id": "25f87ae6",
   "metadata": {},
   "outputs": [
    {
     "data": {
      "text/html": [
       "<div>\n",
       "<style scoped>\n",
       "    .dataframe tbody tr th:only-of-type {\n",
       "        vertical-align: middle;\n",
       "    }\n",
       "\n",
       "    .dataframe tbody tr th {\n",
       "        vertical-align: top;\n",
       "    }\n",
       "\n",
       "    .dataframe thead th {\n",
       "        text-align: right;\n",
       "    }\n",
       "</style>\n",
       "<table border=\"1\" class=\"dataframe\">\n",
       "  <thead>\n",
       "    <tr style=\"text-align: right;\">\n",
       "      <th></th>\n",
       "      <th>id</th>\n",
       "      <th>content</th>\n",
       "      <th>category</th>\n",
       "    </tr>\n",
       "  </thead>\n",
       "  <tbody>\n",
       "    <tr>\n",
       "      <th>0</th>\n",
       "      <td>SW0</td>\n",
       "      <td>SERIKALI imesema haitakuwa tayari kuona amani...</td>\n",
       "      <td>Kitaifa</td>\n",
       "    </tr>\n",
       "    <tr>\n",
       "      <th>1</th>\n",
       "      <td>SW1</td>\n",
       "      <td>Mkuu wa Mkoa wa Tabora, Aggrey Mwanri amesiti...</td>\n",
       "      <td>Biashara</td>\n",
       "    </tr>\n",
       "    <tr>\n",
       "      <th>2</th>\n",
       "      <td>SW10</td>\n",
       "      <td>SERIKALI imetoa miezi sita kwa taasisi zote z...</td>\n",
       "      <td>Kitaifa</td>\n",
       "    </tr>\n",
       "    <tr>\n",
       "      <th>3</th>\n",
       "      <td>SW100</td>\n",
       "      <td>KAMPUNI ya mchezo wa kubahatisha ya M-bet ime...</td>\n",
       "      <td>michezo</td>\n",
       "    </tr>\n",
       "    <tr>\n",
       "      <th>4</th>\n",
       "      <td>SW1000</td>\n",
       "      <td>WATANZANIA wamekumbushwa kusherehekea sikukuu...</td>\n",
       "      <td>Kitaifa</td>\n",
       "    </tr>\n",
       "  </tbody>\n",
       "</table>\n",
       "</div>"
      ],
      "text/plain": [
       "       id                                            content  category\n",
       "0     SW0   SERIKALI imesema haitakuwa tayari kuona amani...   Kitaifa\n",
       "1     SW1   Mkuu wa Mkoa wa Tabora, Aggrey Mwanri amesiti...  Biashara\n",
       "2    SW10   SERIKALI imetoa miezi sita kwa taasisi zote z...   Kitaifa\n",
       "3   SW100   KAMPUNI ya mchezo wa kubahatisha ya M-bet ime...   michezo\n",
       "4  SW1000   WATANZANIA wamekumbushwa kusherehekea sikukuu...   Kitaifa"
      ]
     },
     "execution_count": 2,
     "metadata": {},
     "output_type": "execute_result"
    }
   ],
   "source": [
    "data= pd.read_csv(r'C:\\Users\\hp\\Desktop\\Project\\swahili news classification\\Train.csv')\n",
    "data.head()"
   ]
  },
  {
   "cell_type": "code",
   "execution_count": 3,
   "id": "22db5637",
   "metadata": {},
   "outputs": [
    {
     "data": {
      "text/plain": [
       "id          0\n",
       "content     0\n",
       "category    0\n",
       "dtype: int64"
      ]
     },
     "execution_count": 3,
     "metadata": {},
     "output_type": "execute_result"
    }
   ],
   "source": [
    "data.isna().sum()"
   ]
  },
  {
   "cell_type": "code",
   "execution_count": 4,
   "id": "7f7f96ff",
   "metadata": {},
   "outputs": [
    {
     "data": {
      "text/plain": [
       "Kitaifa      2000\n",
       "michezo      1720\n",
       "Biashara     1360\n",
       "Kimataifa      54\n",
       "Burudani       17\n",
       "Name: category, dtype: int64"
      ]
     },
     "execution_count": 4,
     "metadata": {},
     "output_type": "execute_result"
    }
   ],
   "source": [
    "data['category'].value_counts()"
   ]
  },
  {
   "cell_type": "code",
   "execution_count": 5,
   "id": "0556e39d",
   "metadata": {},
   "outputs": [
    {
     "data": {
      "text/plain": [
       "MultinomialNB()"
      ]
     },
     "execution_count": 5,
     "metadata": {},
     "output_type": "execute_result"
    }
   ],
   "source": [
    "data = data[[\"content\", \"category\"]]\n",
    "\n",
    "x = np.array(data[\"content\"])\n",
    "y = np.array(data[\"category\"])\n",
    "\n",
    "cv = CountVectorizer()\n",
    "X = cv.fit_transform(x)\n",
    "X_train, X_test, y_train, y_test = train_test_split(X, y, test_size=0.33, random_state=40)\n",
    "\n",
    "model = MultinomialNB()\n",
    "model.fit(X_train,y_train)"
   ]
  },
  {
   "cell_type": "code",
   "execution_count": 6,
   "id": "eb94bb43",
   "metadata": {},
   "outputs": [
    {
     "name": "stdout",
     "output_type": "stream",
     "text": [
      "0.8258823529411765\n"
     ]
    }
   ],
   "source": [
    "from sklearn.metrics import accuracy_score\n",
    "print(accuracy_score(y_test, model.predict(X_test)))"
   ]
  },
  {
   "cell_type": "code",
   "execution_count": 7,
   "id": "d5a70d01",
   "metadata": {},
   "outputs": [
    {
     "name": "stdout",
     "output_type": "stream",
     "text": [
      "Enter a Text: SERIKALI imesema haitakuwa tayari kuona amani...\t\n",
      "['Kitaifa']\n"
     ]
    }
   ],
   "source": [
    "INPUT = input(\"Enter a Text: \")\n",
    "data = cv.transform([INPUT]).toarray()\n",
    "output = model.predict(data)\n",
    "print(output)"
   ]
  },
  {
   "cell_type": "code",
   "execution_count": 8,
   "id": "8f83fc53",
   "metadata": {},
   "outputs": [
    {
     "data": {
      "text/html": [
       "<div>\n",
       "<style scoped>\n",
       "    .dataframe tbody tr th:only-of-type {\n",
       "        vertical-align: middle;\n",
       "    }\n",
       "\n",
       "    .dataframe tbody tr th {\n",
       "        vertical-align: top;\n",
       "    }\n",
       "\n",
       "    .dataframe thead th {\n",
       "        text-align: right;\n",
       "    }\n",
       "</style>\n",
       "<table border=\"1\" class=\"dataframe\">\n",
       "  <thead>\n",
       "    <tr style=\"text-align: right;\">\n",
       "      <th></th>\n",
       "      <th>swahili_id</th>\n",
       "      <th>content</th>\n",
       "    </tr>\n",
       "  </thead>\n",
       "  <tbody>\n",
       "    <tr>\n",
       "      <th>0</th>\n",
       "      <td>001dd47ac202d9db6624a5ff734a5e7dddafeaf2</td>\n",
       "      <td>MKUU wa Wilaya ya Bahi, Mkoani Dodoma, Mwanah...</td>\n",
       "    </tr>\n",
       "    <tr>\n",
       "      <th>1</th>\n",
       "      <td>0043d97f7690e9bc02f0ed8bb2b260d1d44bad92</td>\n",
       "      <td>MWISHONI mwa wiki hii, Timu ya Soka ya Taifa,...</td>\n",
       "    </tr>\n",
       "    <tr>\n",
       "      <th>2</th>\n",
       "      <td>00579c2307b5c11003d21c40c3ecff5e922c3fd8</td>\n",
       "      <td>THAMANI ya mauzo ya bidhaa za Afrika Masharik...</td>\n",
       "    </tr>\n",
       "    <tr>\n",
       "      <th>3</th>\n",
       "      <td>00868eeee349e286303706ef0ffd851f39708d37</td>\n",
       "      <td>MENEJA Mawasiliano na Utetezi wa asasi ya AGP...</td>\n",
       "    </tr>\n",
       "    <tr>\n",
       "      <th>4</th>\n",
       "      <td>00a5cb12d3058dcf2e42f277eee599992db32412</td>\n",
       "      <td>WAZIRI wa Kilimo, Japhet Hasunga amesema seri...</td>\n",
       "    </tr>\n",
       "  </tbody>\n",
       "</table>\n",
       "</div>"
      ],
      "text/plain": [
       "                                 swahili_id  \\\n",
       "0  001dd47ac202d9db6624a5ff734a5e7dddafeaf2   \n",
       "1  0043d97f7690e9bc02f0ed8bb2b260d1d44bad92   \n",
       "2  00579c2307b5c11003d21c40c3ecff5e922c3fd8   \n",
       "3  00868eeee349e286303706ef0ffd851f39708d37   \n",
       "4  00a5cb12d3058dcf2e42f277eee599992db32412   \n",
       "\n",
       "                                             content  \n",
       "0   MKUU wa Wilaya ya Bahi, Mkoani Dodoma, Mwanah...  \n",
       "1   MWISHONI mwa wiki hii, Timu ya Soka ya Taifa,...  \n",
       "2   THAMANI ya mauzo ya bidhaa za Afrika Masharik...  \n",
       "3   MENEJA Mawasiliano na Utetezi wa asasi ya AGP...  \n",
       "4   WAZIRI wa Kilimo, Japhet Hasunga amesema seri...  "
      ]
     },
     "execution_count": 8,
     "metadata": {},
     "output_type": "execute_result"
    }
   ],
   "source": [
    "data1 = data= pd.read_csv(r'C:\\Users\\hp\\Desktop\\Project\\swahili news classification\\Test.csv')\n",
    "data1.head()"
   ]
  },
  {
   "cell_type": "code",
   "execution_count": 9,
   "id": "e45eff70",
   "metadata": {},
   "outputs": [
    {
     "data": {
      "text/plain": [
       "array(['Kitaifa', 'michezo', 'Biashara', ..., 'michezo', 'michezo',\n",
       "       'Kitaifa'], dtype='<U9')"
      ]
     },
     "execution_count": 9,
     "metadata": {},
     "output_type": "execute_result"
    }
   ],
   "source": [
    "dataa = cv.transform(data1['content']).toarray()\n",
    "output = model.predict(dataa)\n",
    "output"
   ]
  },
  {
   "cell_type": "code",
   "execution_count": 10,
   "id": "eec1c498",
   "metadata": {},
   "outputs": [
    {
     "data": {
      "text/html": [
       "<div>\n",
       "<style scoped>\n",
       "    .dataframe tbody tr th:only-of-type {\n",
       "        vertical-align: middle;\n",
       "    }\n",
       "\n",
       "    .dataframe tbody tr th {\n",
       "        vertical-align: top;\n",
       "    }\n",
       "\n",
       "    .dataframe thead th {\n",
       "        text-align: right;\n",
       "    }\n",
       "</style>\n",
       "<table border=\"1\" class=\"dataframe\">\n",
       "  <thead>\n",
       "    <tr style=\"text-align: right;\">\n",
       "      <th></th>\n",
       "      <th>swahili_id</th>\n",
       "      <th>content</th>\n",
       "      <th>predicted</th>\n",
       "    </tr>\n",
       "  </thead>\n",
       "  <tbody>\n",
       "    <tr>\n",
       "      <th>0</th>\n",
       "      <td>001dd47ac202d9db6624a5ff734a5e7dddafeaf2</td>\n",
       "      <td>MKUU wa Wilaya ya Bahi, Mkoani Dodoma, Mwanah...</td>\n",
       "      <td>Kitaifa</td>\n",
       "    </tr>\n",
       "    <tr>\n",
       "      <th>1</th>\n",
       "      <td>0043d97f7690e9bc02f0ed8bb2b260d1d44bad92</td>\n",
       "      <td>MWISHONI mwa wiki hii, Timu ya Soka ya Taifa,...</td>\n",
       "      <td>michezo</td>\n",
       "    </tr>\n",
       "    <tr>\n",
       "      <th>2</th>\n",
       "      <td>00579c2307b5c11003d21c40c3ecff5e922c3fd8</td>\n",
       "      <td>THAMANI ya mauzo ya bidhaa za Afrika Masharik...</td>\n",
       "      <td>Biashara</td>\n",
       "    </tr>\n",
       "    <tr>\n",
       "      <th>3</th>\n",
       "      <td>00868eeee349e286303706ef0ffd851f39708d37</td>\n",
       "      <td>MENEJA Mawasiliano na Utetezi wa asasi ya AGP...</td>\n",
       "      <td>Kitaifa</td>\n",
       "    </tr>\n",
       "    <tr>\n",
       "      <th>4</th>\n",
       "      <td>00a5cb12d3058dcf2e42f277eee599992db32412</td>\n",
       "      <td>WAZIRI wa Kilimo, Japhet Hasunga amesema seri...</td>\n",
       "      <td>Biashara</td>\n",
       "    </tr>\n",
       "    <tr>\n",
       "      <th>...</th>\n",
       "      <td>...</td>\n",
       "      <td>...</td>\n",
       "      <td>...</td>\n",
       "    </tr>\n",
       "    <tr>\n",
       "      <th>1283</th>\n",
       "      <td>feb4b0ae88524c9cee3e50f2301d84a235f3c607</td>\n",
       "      <td>MKURUGENZI Msaidizi Msajili wa Asasi za kirai...</td>\n",
       "      <td>Kitaifa</td>\n",
       "    </tr>\n",
       "    <tr>\n",
       "      <th>1284</th>\n",
       "      <td>fecf3f14f47237e02721ed4baa4eb6c11abd239f</td>\n",
       "      <td>Kilomoni alisema jana kesho atazungumzia sual...</td>\n",
       "      <td>michezo</td>\n",
       "    </tr>\n",
       "    <tr>\n",
       "      <th>1285</th>\n",
       "      <td>feed09e13586d12139cd59bc20996a4d29706606</td>\n",
       "      <td>TIMU ya taifa ya soka ya Tanzania Bara, Kilim...</td>\n",
       "      <td>michezo</td>\n",
       "    </tr>\n",
       "    <tr>\n",
       "      <th>1286</th>\n",
       "      <td>ffc0bca6fde8fa0cce1ac3a7b0d746603d441bf8</td>\n",
       "      <td>YANGA imetozwa faini ya Sh 3,500,000 kutokana...</td>\n",
       "      <td>michezo</td>\n",
       "    </tr>\n",
       "    <tr>\n",
       "      <th>1287</th>\n",
       "      <td>fffdd6f356ed5b8dba21717f60c53f6520e650ab</td>\n",
       "      <td>MAHAKAMA Kuu Kanda ya Dar es Salaam imekubali...</td>\n",
       "      <td>Kitaifa</td>\n",
       "    </tr>\n",
       "  </tbody>\n",
       "</table>\n",
       "<p>1288 rows × 3 columns</p>\n",
       "</div>"
      ],
      "text/plain": [
       "                                    swahili_id  \\\n",
       "0     001dd47ac202d9db6624a5ff734a5e7dddafeaf2   \n",
       "1     0043d97f7690e9bc02f0ed8bb2b260d1d44bad92   \n",
       "2     00579c2307b5c11003d21c40c3ecff5e922c3fd8   \n",
       "3     00868eeee349e286303706ef0ffd851f39708d37   \n",
       "4     00a5cb12d3058dcf2e42f277eee599992db32412   \n",
       "...                                        ...   \n",
       "1283  feb4b0ae88524c9cee3e50f2301d84a235f3c607   \n",
       "1284  fecf3f14f47237e02721ed4baa4eb6c11abd239f   \n",
       "1285  feed09e13586d12139cd59bc20996a4d29706606   \n",
       "1286  ffc0bca6fde8fa0cce1ac3a7b0d746603d441bf8   \n",
       "1287  fffdd6f356ed5b8dba21717f60c53f6520e650ab   \n",
       "\n",
       "                                                content predicted  \n",
       "0      MKUU wa Wilaya ya Bahi, Mkoani Dodoma, Mwanah...   Kitaifa  \n",
       "1      MWISHONI mwa wiki hii, Timu ya Soka ya Taifa,...   michezo  \n",
       "2      THAMANI ya mauzo ya bidhaa za Afrika Masharik...  Biashara  \n",
       "3      MENEJA Mawasiliano na Utetezi wa asasi ya AGP...   Kitaifa  \n",
       "4      WAZIRI wa Kilimo, Japhet Hasunga amesema seri...  Biashara  \n",
       "...                                                 ...       ...  \n",
       "1283   MKURUGENZI Msaidizi Msajili wa Asasi za kirai...   Kitaifa  \n",
       "1284   Kilomoni alisema jana kesho atazungumzia sual...   michezo  \n",
       "1285   TIMU ya taifa ya soka ya Tanzania Bara, Kilim...   michezo  \n",
       "1286   YANGA imetozwa faini ya Sh 3,500,000 kutokana...   michezo  \n",
       "1287   MAHAKAMA Kuu Kanda ya Dar es Salaam imekubali...   Kitaifa  \n",
       "\n",
       "[1288 rows x 3 columns]"
      ]
     },
     "execution_count": 10,
     "metadata": {},
     "output_type": "execute_result"
    }
   ],
   "source": [
    "\n",
    "data1['predicted'] = output\n",
    "data1"
   ]
  },
  {
   "cell_type": "code",
   "execution_count": 11,
   "id": "2d29c114",
   "metadata": {},
   "outputs": [
    {
     "data": {
      "text/html": [
       "<div>\n",
       "<style scoped>\n",
       "    .dataframe tbody tr th:only-of-type {\n",
       "        vertical-align: middle;\n",
       "    }\n",
       "\n",
       "    .dataframe tbody tr th {\n",
       "        vertical-align: top;\n",
       "    }\n",
       "\n",
       "    .dataframe thead th {\n",
       "        text-align: right;\n",
       "    }\n",
       "</style>\n",
       "<table border=\"1\" class=\"dataframe\">\n",
       "  <thead>\n",
       "    <tr style=\"text-align: right;\">\n",
       "      <th></th>\n",
       "      <th>swahili_id</th>\n",
       "      <th>predicted</th>\n",
       "    </tr>\n",
       "  </thead>\n",
       "  <tbody>\n",
       "    <tr>\n",
       "      <th>0</th>\n",
       "      <td>001dd47ac202d9db6624a5ff734a5e7dddafeaf2</td>\n",
       "      <td>Kitaifa</td>\n",
       "    </tr>\n",
       "    <tr>\n",
       "      <th>1</th>\n",
       "      <td>0043d97f7690e9bc02f0ed8bb2b260d1d44bad92</td>\n",
       "      <td>michezo</td>\n",
       "    </tr>\n",
       "    <tr>\n",
       "      <th>2</th>\n",
       "      <td>00579c2307b5c11003d21c40c3ecff5e922c3fd8</td>\n",
       "      <td>Biashara</td>\n",
       "    </tr>\n",
       "    <tr>\n",
       "      <th>3</th>\n",
       "      <td>00868eeee349e286303706ef0ffd851f39708d37</td>\n",
       "      <td>Kitaifa</td>\n",
       "    </tr>\n",
       "    <tr>\n",
       "      <th>4</th>\n",
       "      <td>00a5cb12d3058dcf2e42f277eee599992db32412</td>\n",
       "      <td>Biashara</td>\n",
       "    </tr>\n",
       "    <tr>\n",
       "      <th>...</th>\n",
       "      <td>...</td>\n",
       "      <td>...</td>\n",
       "    </tr>\n",
       "    <tr>\n",
       "      <th>1283</th>\n",
       "      <td>feb4b0ae88524c9cee3e50f2301d84a235f3c607</td>\n",
       "      <td>Kitaifa</td>\n",
       "    </tr>\n",
       "    <tr>\n",
       "      <th>1284</th>\n",
       "      <td>fecf3f14f47237e02721ed4baa4eb6c11abd239f</td>\n",
       "      <td>michezo</td>\n",
       "    </tr>\n",
       "    <tr>\n",
       "      <th>1285</th>\n",
       "      <td>feed09e13586d12139cd59bc20996a4d29706606</td>\n",
       "      <td>michezo</td>\n",
       "    </tr>\n",
       "    <tr>\n",
       "      <th>1286</th>\n",
       "      <td>ffc0bca6fde8fa0cce1ac3a7b0d746603d441bf8</td>\n",
       "      <td>michezo</td>\n",
       "    </tr>\n",
       "    <tr>\n",
       "      <th>1287</th>\n",
       "      <td>fffdd6f356ed5b8dba21717f60c53f6520e650ab</td>\n",
       "      <td>Kitaifa</td>\n",
       "    </tr>\n",
       "  </tbody>\n",
       "</table>\n",
       "<p>1288 rows × 2 columns</p>\n",
       "</div>"
      ],
      "text/plain": [
       "                                    swahili_id predicted\n",
       "0     001dd47ac202d9db6624a5ff734a5e7dddafeaf2   Kitaifa\n",
       "1     0043d97f7690e9bc02f0ed8bb2b260d1d44bad92   michezo\n",
       "2     00579c2307b5c11003d21c40c3ecff5e922c3fd8  Biashara\n",
       "3     00868eeee349e286303706ef0ffd851f39708d37   Kitaifa\n",
       "4     00a5cb12d3058dcf2e42f277eee599992db32412  Biashara\n",
       "...                                        ...       ...\n",
       "1283  feb4b0ae88524c9cee3e50f2301d84a235f3c607   Kitaifa\n",
       "1284  fecf3f14f47237e02721ed4baa4eb6c11abd239f   michezo\n",
       "1285  feed09e13586d12139cd59bc20996a4d29706606   michezo\n",
       "1286  ffc0bca6fde8fa0cce1ac3a7b0d746603d441bf8   michezo\n",
       "1287  fffdd6f356ed5b8dba21717f60c53f6520e650ab   Kitaifa\n",
       "\n",
       "[1288 rows x 2 columns]"
      ]
     },
     "execution_count": 11,
     "metadata": {},
     "output_type": "execute_result"
    }
   ],
   "source": [
    "data2= data1.drop(['content'], axis=1)\n",
    "data2"
   ]
  },
  {
   "cell_type": "code",
   "execution_count": 12,
   "id": "47e736df",
   "metadata": {},
   "outputs": [],
   "source": [
    "swahili_dummies = pd.get_dummies(data2.predicted, prefix=\"predicted\")\n",
    "data2_dummies = pd.concat([data2,swahili_dummies], axis='columns')"
   ]
  },
  {
   "cell_type": "code",
   "execution_count": 13,
   "id": "da593212",
   "metadata": {},
   "outputs": [
    {
     "data": {
      "text/html": [
       "<div>\n",
       "<style scoped>\n",
       "    .dataframe tbody tr th:only-of-type {\n",
       "        vertical-align: middle;\n",
       "    }\n",
       "\n",
       "    .dataframe tbody tr th {\n",
       "        vertical-align: top;\n",
       "    }\n",
       "\n",
       "    .dataframe thead th {\n",
       "        text-align: right;\n",
       "    }\n",
       "</style>\n",
       "<table border=\"1\" class=\"dataframe\">\n",
       "  <thead>\n",
       "    <tr style=\"text-align: right;\">\n",
       "      <th></th>\n",
       "      <th>swahili_id</th>\n",
       "      <th>predicted_Biashara</th>\n",
       "      <th>predicted_Kitaifa</th>\n",
       "      <th>predicted_michezo</th>\n",
       "    </tr>\n",
       "  </thead>\n",
       "  <tbody>\n",
       "    <tr>\n",
       "      <th>0</th>\n",
       "      <td>001dd47ac202d9db6624a5ff734a5e7dddafeaf2</td>\n",
       "      <td>0</td>\n",
       "      <td>1</td>\n",
       "      <td>0</td>\n",
       "    </tr>\n",
       "    <tr>\n",
       "      <th>1</th>\n",
       "      <td>0043d97f7690e9bc02f0ed8bb2b260d1d44bad92</td>\n",
       "      <td>0</td>\n",
       "      <td>0</td>\n",
       "      <td>1</td>\n",
       "    </tr>\n",
       "    <tr>\n",
       "      <th>2</th>\n",
       "      <td>00579c2307b5c11003d21c40c3ecff5e922c3fd8</td>\n",
       "      <td>1</td>\n",
       "      <td>0</td>\n",
       "      <td>0</td>\n",
       "    </tr>\n",
       "    <tr>\n",
       "      <th>3</th>\n",
       "      <td>00868eeee349e286303706ef0ffd851f39708d37</td>\n",
       "      <td>0</td>\n",
       "      <td>1</td>\n",
       "      <td>0</td>\n",
       "    </tr>\n",
       "    <tr>\n",
       "      <th>4</th>\n",
       "      <td>00a5cb12d3058dcf2e42f277eee599992db32412</td>\n",
       "      <td>1</td>\n",
       "      <td>0</td>\n",
       "      <td>0</td>\n",
       "    </tr>\n",
       "    <tr>\n",
       "      <th>...</th>\n",
       "      <td>...</td>\n",
       "      <td>...</td>\n",
       "      <td>...</td>\n",
       "      <td>...</td>\n",
       "    </tr>\n",
       "    <tr>\n",
       "      <th>1283</th>\n",
       "      <td>feb4b0ae88524c9cee3e50f2301d84a235f3c607</td>\n",
       "      <td>0</td>\n",
       "      <td>1</td>\n",
       "      <td>0</td>\n",
       "    </tr>\n",
       "    <tr>\n",
       "      <th>1284</th>\n",
       "      <td>fecf3f14f47237e02721ed4baa4eb6c11abd239f</td>\n",
       "      <td>0</td>\n",
       "      <td>0</td>\n",
       "      <td>1</td>\n",
       "    </tr>\n",
       "    <tr>\n",
       "      <th>1285</th>\n",
       "      <td>feed09e13586d12139cd59bc20996a4d29706606</td>\n",
       "      <td>0</td>\n",
       "      <td>0</td>\n",
       "      <td>1</td>\n",
       "    </tr>\n",
       "    <tr>\n",
       "      <th>1286</th>\n",
       "      <td>ffc0bca6fde8fa0cce1ac3a7b0d746603d441bf8</td>\n",
       "      <td>0</td>\n",
       "      <td>0</td>\n",
       "      <td>1</td>\n",
       "    </tr>\n",
       "    <tr>\n",
       "      <th>1287</th>\n",
       "      <td>fffdd6f356ed5b8dba21717f60c53f6520e650ab</td>\n",
       "      <td>0</td>\n",
       "      <td>1</td>\n",
       "      <td>0</td>\n",
       "    </tr>\n",
       "  </tbody>\n",
       "</table>\n",
       "<p>1288 rows × 4 columns</p>\n",
       "</div>"
      ],
      "text/plain": [
       "                                    swahili_id  predicted_Biashara  \\\n",
       "0     001dd47ac202d9db6624a5ff734a5e7dddafeaf2                   0   \n",
       "1     0043d97f7690e9bc02f0ed8bb2b260d1d44bad92                   0   \n",
       "2     00579c2307b5c11003d21c40c3ecff5e922c3fd8                   1   \n",
       "3     00868eeee349e286303706ef0ffd851f39708d37                   0   \n",
       "4     00a5cb12d3058dcf2e42f277eee599992db32412                   1   \n",
       "...                                        ...                 ...   \n",
       "1283  feb4b0ae88524c9cee3e50f2301d84a235f3c607                   0   \n",
       "1284  fecf3f14f47237e02721ed4baa4eb6c11abd239f                   0   \n",
       "1285  feed09e13586d12139cd59bc20996a4d29706606                   0   \n",
       "1286  ffc0bca6fde8fa0cce1ac3a7b0d746603d441bf8                   0   \n",
       "1287  fffdd6f356ed5b8dba21717f60c53f6520e650ab                   0   \n",
       "\n",
       "      predicted_Kitaifa  predicted_michezo  \n",
       "0                     1                  0  \n",
       "1                     0                  1  \n",
       "2                     0                  0  \n",
       "3                     1                  0  \n",
       "4                     0                  0  \n",
       "...                 ...                ...  \n",
       "1283                  1                  0  \n",
       "1284                  0                  1  \n",
       "1285                  0                  1  \n",
       "1286                  0                  1  \n",
       "1287                  1                  0  \n",
       "\n",
       "[1288 rows x 4 columns]"
      ]
     },
     "execution_count": 13,
     "metadata": {},
     "output_type": "execute_result"
    }
   ],
   "source": [
    "swahili_classification = data2_dummies.drop(['predicted'], axis=1)\n",
    "swahili_classification "
   ]
  },
  {
   "cell_type": "code",
   "execution_count": null,
   "id": "de7355e0",
   "metadata": {},
   "outputs": [],
   "source": []
  }
 ],
 "metadata": {
  "kernelspec": {
   "display_name": "Python 3 (ipykernel)",
   "language": "python",
   "name": "python3"
  },
  "language_info": {
   "codemirror_mode": {
    "name": "ipython",
    "version": 3
   },
   "file_extension": ".py",
   "mimetype": "text/x-python",
   "name": "python",
   "nbconvert_exporter": "python",
   "pygments_lexer": "ipython3",
   "version": "3.9.7"
  }
 },
 "nbformat": 4,
 "nbformat_minor": 5
}
